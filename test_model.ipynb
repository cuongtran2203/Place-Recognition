{
 "cells": [
  {
   "cell_type": "code",
   "execution_count": 1,
   "metadata": {},
   "outputs": [],
   "source": [
    "import torch\n",
    "import torchvision\n",
    "from torch import Tensor\n",
    "from torchvision import transforms\n",
    "import torch.nn as nn\n",
    "import torch.nn.functional as F\n",
    "from torch.autograd import Variable\n",
    "from torch.nn.parameter import Parameter\n",
    "from torch.optim import lr_scheduler\n",
    "from torch.utils.data import DataLoader, Dataset\n",
    "from torch.utils.data.sampler import SequentialSampler\n",
    "from tqdm import tqdm"
   ]
  },
  {
   "cell_type": "code",
   "execution_count": 2,
   "metadata": {},
   "outputs": [
    {
     "name": "stdout",
     "output_type": "stream",
     "text": [
      "torch.Size([2, 64, 64, 64])\n"
     ]
    }
   ],
   "source": [
    "import torch\n",
    "from torch import nn\n",
    "from torch.nn import functional as F\n",
    "\n",
    "class Attention(nn.Module):\n",
    "    def __init__(self,in_planes,ratio,K,temprature=30,init_weight=True):\n",
    "        super().__init__()\n",
    "        self.avgpool=nn.AdaptiveAvgPool2d(1)\n",
    "        self.temprature=temprature\n",
    "        assert in_planes>ratio\n",
    "        hidden_planes=in_planes//ratio\n",
    "        self.net=nn.Sequential(\n",
    "            nn.Conv2d(in_planes,hidden_planes,kernel_size=1,bias=False),\n",
    "            nn.ReLU(),\n",
    "            nn.Conv2d(hidden_planes,K,kernel_size=1,bias=False)\n",
    "        )\n",
    "\n",
    "        if(init_weight):\n",
    "            self._initialize_weights()\n",
    "\n",
    "    def update_temprature(self):\n",
    "        if(self.temprature>1):\n",
    "            self.temprature-=1\n",
    "\n",
    "    def _initialize_weights(self):\n",
    "        for m in self.modules():\n",
    "            if isinstance(m, nn.Conv2d):\n",
    "                nn.init.kaiming_normal_(m.weight, mode='fan_out', nonlinearity='relu')\n",
    "                if m.bias is not None:\n",
    "                    nn.init.constant_(m.bias, 0)\n",
    "            if isinstance(m ,nn.BatchNorm2d):\n",
    "                nn.init.constant_(m.weight, 1)\n",
    "                nn.init.constant_(m.bias, 0)\n",
    "\n",
    "    def forward(self,x):\n",
    "        att=self.avgpool(x) #bs,dim,1,1\n",
    "        att=self.net(att).view(x.shape[0],-1) #bs,K\n",
    "        return F.softmax(att/self.temprature,-1)\n",
    "\n",
    "class DynamicConv(nn.Module):\n",
    "    def __init__(self,in_planes,out_planes,kernel_size,stride,padding=0,dilation=1,grounps=1,bias=True,K=4,temprature=30,ratio=4,init_weight=True):\n",
    "        super().__init__()\n",
    "        self.in_planes=in_planes\n",
    "        self.out_planes=out_planes\n",
    "        self.kernel_size=kernel_size\n",
    "        self.stride=stride\n",
    "        self.padding=padding\n",
    "        self.dilation=dilation\n",
    "        self.groups=grounps\n",
    "        self.bias=bias\n",
    "        self.K=K\n",
    "        self.init_weight=init_weight\n",
    "        self.attention=Attention(in_planes=in_planes,ratio=ratio,K=K,temprature=temprature,init_weight=init_weight)\n",
    "\n",
    "        self.weight=nn.Parameter(torch.randn(K,out_planes,in_planes//grounps,kernel_size,kernel_size),requires_grad=True)\n",
    "        if(bias):\n",
    "            self.bias=nn.Parameter(torch.randn(K,out_planes),requires_grad=True)\n",
    "        else:\n",
    "            self.bias=None\n",
    "        \n",
    "        if(self.init_weight):\n",
    "            self._initialize_weights()\n",
    "\n",
    "        #TODO 初始化\n",
    "    def _initialize_weights(self):\n",
    "        for i in range(self.K):\n",
    "            nn.init.kaiming_uniform_(self.weight[i])\n",
    "\n",
    "    def forward(self,x):\n",
    "        bs,in_planels,h,w=x.shape\n",
    "        softmax_att=self.attention(x) #bs,K\n",
    "        x=x.view(1,-1,h,w)\n",
    "        weight=self.weight.view(self.K,-1) #K,-1\n",
    "        aggregate_weight=torch.mm(softmax_att,weight).view(bs*self.out_planes,self.in_planes//self.groups,self.kernel_size,self.kernel_size) #bs*out_p,in_p,k,k\n",
    "\n",
    "        if(self.bias is not None):\n",
    "            bias=self.bias.view(self.K,-1) #K,out_p\n",
    "            aggregate_bias=torch.mm(softmax_att,bias).view(-1) #bs,out_p\n",
    "            output=F.conv2d(x,weight=aggregate_weight,bias=aggregate_bias,stride=self.stride,padding=self.padding,groups=self.groups*bs,dilation=self.dilation)\n",
    "        else:\n",
    "            output=F.conv2d(x,weight=aggregate_weight,bias=None,stride=self.stride,padding=self.padding,groups=self.groups*bs,dilation=self.dilation)\n",
    "        \n",
    "        output=output.view(bs,self.out_planes,h,w)\n",
    "        return output\n",
    "\n",
    "if __name__ == '__main__':\n",
    "    input=torch.randn(2,32,64,64)\n",
    "    m=DynamicConv(in_planes=32,out_planes=64,kernel_size=3,stride=1,padding=1,bias=False)\n",
    "    out=m(input)\n",
    "    print(out.shape)"
   ]
  },
  {
   "cell_type": "code",
   "execution_count": 6,
   "metadata": {},
   "outputs": [
    {
     "ename": "NameError",
     "evalue": "name 'create_ConTNet_Ti' is not defined",
     "output_type": "error",
     "traceback": [
      "\u001b[0;31m---------------------------------------------------------------------------\u001b[0m",
      "\u001b[0;31mNameError\u001b[0m                                 Traceback (most recent call last)",
      "\u001b[1;32m/Users/macos/Desktop/Place-Recognition/test_model.ipynb Cell 3\u001b[0m line \u001b[0;36m7\n\u001b[1;32m      <a href='vscode-notebook-cell:/Users/macos/Desktop/Place-Recognition/test_model.ipynb#W2sZmlsZQ%3D%3D?line=0'>1</a>\u001b[0m \u001b[39m'''\u001b[39;00m\n\u001b[1;32m      <a href='vscode-notebook-cell:/Users/macos/Desktop/Place-Recognition/test_model.ipynb#W2sZmlsZQ%3D%3D?line=1'>2</a>\u001b[0m \u001b[39mCall model extract feature\u001b[39;00m\n\u001b[1;32m      <a href='vscode-notebook-cell:/Users/macos/Desktop/Place-Recognition/test_model.ipynb#W2sZmlsZQ%3D%3D?line=2'>3</a>\u001b[0m \u001b[39m'''\u001b[39;00m\n\u001b[1;32m      <a href='vscode-notebook-cell:/Users/macos/Desktop/Place-Recognition/test_model.ipynb#W2sZmlsZQ%3D%3D?line=3'>4</a>\u001b[0m \u001b[39mfrom\u001b[39;00m \u001b[39mConTNet\u001b[39;00m \u001b[39mimport\u001b[39;00m \u001b[39m*\u001b[39m\n\u001b[0;32m----> <a href='vscode-notebook-cell:/Users/macos/Desktop/Place-Recognition/test_model.ipynb#W2sZmlsZQ%3D%3D?line=6'>7</a>\u001b[0m model \u001b[39m=\u001b[39m build_model(arch\u001b[39m=\u001b[39;49m\u001b[39m'\u001b[39;49m\u001b[39mConT-Ti\u001b[39;49m\u001b[39m'\u001b[39;49m, use_avgdown\u001b[39m=\u001b[39;49m\u001b[39mTrue\u001b[39;49;00m, relative\u001b[39m=\u001b[39;49m\u001b[39mTrue\u001b[39;49;00m, qkv_bias\u001b[39m=\u001b[39;49m\u001b[39mTrue\u001b[39;49;00m, pre_norm\u001b[39m=\u001b[39;49m\u001b[39mTrue\u001b[39;49;00m)\n\u001b[1;32m      <a href='vscode-notebook-cell:/Users/macos/Desktop/Place-Recognition/test_model.ipynb#W2sZmlsZQ%3D%3D?line=7'>8</a>\u001b[0m \u001b[39minput\u001b[39m \u001b[39m=\u001b[39m torch\u001b[39m.\u001b[39mTensor(\u001b[39m4\u001b[39m, \u001b[39m3\u001b[39m, \u001b[39m224\u001b[39m, \u001b[39m224\u001b[39m)\n\u001b[1;32m      <a href='vscode-notebook-cell:/Users/macos/Desktop/Place-Recognition/test_model.ipynb#W2sZmlsZQ%3D%3D?line=8'>9</a>\u001b[0m \u001b[39mprint\u001b[39m(model)\n",
      "\u001b[1;32m/Users/macos/Desktop/Place-Recognition/test_model.ipynb Cell 3\u001b[0m line \u001b[0;36m7\n\u001b[1;32m      <a href='vscode-notebook-cell:/Users/macos/Desktop/Place-Recognition/test_model.ipynb#W2sZmlsZQ%3D%3D?line=4'>5</a>\u001b[0m \u001b[39mdef\u001b[39;00m \u001b[39mbuild_model\u001b[39m(arch, use_avgdown, relative, qkv_bias, pre_norm):\n\u001b[1;32m      <a href='vscode-notebook-cell:/Users/macos/Desktop/Place-Recognition/test_model.ipynb#W2sZmlsZQ%3D%3D?line=5'>6</a>\u001b[0m     \u001b[39mtype\u001b[39m \u001b[39m=\u001b[39m arch\u001b[39m.\u001b[39msplit(\u001b[39m'\u001b[39m\u001b[39m-\u001b[39m\u001b[39m'\u001b[39m)[\u001b[39m-\u001b[39m\u001b[39m1\u001b[39m]\n\u001b[0;32m----> <a href='vscode-notebook-cell:/Users/macos/Desktop/Place-Recognition/test_model.ipynb#W2sZmlsZQ%3D%3D?line=6'>7</a>\u001b[0m     func \u001b[39m=\u001b[39m \u001b[39meval\u001b[39;49m(\u001b[39mf\u001b[39;49m\u001b[39m'\u001b[39;49m\u001b[39mcreate_ConTNet_\u001b[39;49m\u001b[39m{\u001b[39;49;00m\u001b[39mtype\u001b[39;49m\u001b[39m}\u001b[39;49;00m\u001b[39m'\u001b[39;49m)\n\u001b[1;32m      <a href='vscode-notebook-cell:/Users/macos/Desktop/Place-Recognition/test_model.ipynb#W2sZmlsZQ%3D%3D?line=7'>8</a>\u001b[0m     kwargs \u001b[39m=\u001b[39m \u001b[39mdict\u001b[39m(use_avgdown\u001b[39m=\u001b[39muse_avgdown, relative\u001b[39m=\u001b[39mrelative, qkv_bias\u001b[39m=\u001b[39mqkv_bias, pre_norm\u001b[39m=\u001b[39mpre_norm)\n\u001b[1;32m      <a href='vscode-notebook-cell:/Users/macos/Desktop/Place-Recognition/test_model.ipynb#W2sZmlsZQ%3D%3D?line=8'>9</a>\u001b[0m     \u001b[39mreturn\u001b[39;00m func(kwargs)\n",
      "File \u001b[0;32m<string>:1\u001b[0m\n",
      "\u001b[0;31mNameError\u001b[0m: name 'create_ConTNet_Ti' is not defined"
     ]
    }
   ],
   "source": [
    "'''\n",
    "Call model extract feature\n",
    "'''\n",
    "from ConTNet import *\n",
    "\n",
    "\n",
    "model = build_model(arch='ConT-Ti', use_avgdown=True, relative=True, qkv_bias=True, pre_norm=True)\n",
    "input = torch.Tensor(4, 3, 224, 224)\n",
    "print(model)\n",
    "out = model(input)\n",
    "print(out.shape)\n"
   ]
  },
  {
   "cell_type": "code",
   "execution_count": null,
   "metadata": {},
   "outputs": [],
   "source": []
  }
 ],
 "metadata": {
  "kernelspec": {
   "display_name": "project",
   "language": "python",
   "name": "python3"
  },
  "language_info": {
   "codemirror_mode": {
    "name": "ipython",
    "version": 3
   },
   "file_extension": ".py",
   "mimetype": "text/x-python",
   "name": "python",
   "nbconvert_exporter": "python",
   "pygments_lexer": "ipython3",
   "version": "3.8.17"
  }
 },
 "nbformat": 4,
 "nbformat_minor": 2
}
